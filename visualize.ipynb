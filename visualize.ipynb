{
 "cells": [
  {
   "cell_type": "code",
   "execution_count": 1,
   "metadata": {},
   "outputs": [
    {
     "data": {
      "text/plain": [
       "<torch.autograd.grad_mode.set_grad_enabled at 0x7fb294186c10>"
      ]
     },
     "execution_count": 1,
     "metadata": {},
     "output_type": "execute_result"
    }
   ],
   "source": [
    "import torch\n",
    "import os\n",
    "import yaml\n",
    "import cv2\n",
    "import numpy as np\n",
    "import matplotlib.pyplot as plt\n",
    "\n",
    "from models.model import DPTAffordanceModel\n",
    "import utils.transform as TF\n",
    "\n",
    "torch.set_grad_enabled(False)"
   ]
  },
  {
   "cell_type": "code",
   "execution_count": null,
   "metadata": {},
   "outputs": [],
   "source": [
    "split_mode = \"object\" # object or actor\n",
    "\n",
    "dataset_root_path = \"\"\n",
    "\n",
    "resume = \"\""
   ]
  },
  {
   "cell_type": "code",
   "execution_count": null,
   "metadata": {},
   "outputs": [],
   "source": [
    "affordance = [\"openable\", \"cuttable\", \"pourable\", \"containable\", \"supportable\", \"holdable\"]\n",
    "num_affordance = len(affordance)\n",
    "num_object = 12"
   ]
  },
  {
   "cell_type": "code",
   "execution_count": null,
   "metadata": {},
   "outputs": [],
   "source": [
    "keypoint_path = os.path.join(dataset_root_path, split_mode, \"train_affordance_keypoint.yaml\")\n",
    "with open(keypoint_path, \"r\") as fb:\n",
    "    keypoint_dict = yaml.safe_load(fb)"
   ]
  },
  {
   "cell_type": "code",
   "execution_count": null,
   "metadata": {},
   "outputs": [],
   "source": [
    "model = DPTAffordanceModel(num_object, num_affordance, use_hf=True).cuda()\n",
    "ckpt = torch.load(resume, map_location=lambda storage, loc: storage)\n",
    "model.load_state_dict(\n",
    "    {\n",
    "        k.replace(\"module.\", \"\"): v\n",
    "        for k, v in ckpt[\"state_dict\"].items()\n",
    "    }\n",
    ")\n",
    "model.eval()"
   ]
  },
  {
   "cell_type": "code",
   "execution_count": null,
   "metadata": {},
   "outputs": [],
   "source": [
    "if split_mode == \"object\":\n",
    "    mean = [132.2723, 106.8666, 112.8962]\n",
    "    std = [67.4025, 70.7446, 72.1553]\n",
    "elif split_mode == \"actor\":\n",
    "    mean = [136.5133, 108.5417, 113.0168]\n",
    "    std = [67.4025, 70.7446, 72.1553]\n",
    "else:\n",
    "    raise Exception(f\"split_mode: {split_mode} is not supported.\")\n",
    "\n",
    "tf = TF.Compose(\n",
    "    [\n",
    "        TF.PILToTensor(),\n",
    "        TF.ImageNormalizeTensor(mean=mean, std=std),\n",
    "    ]\n",
    ")"
   ]
  },
  {
   "cell_type": "code",
   "execution_count": null,
   "metadata": {},
   "outputs": [],
   "source": [
    "image_path = \"\""
   ]
  },
  {
   "cell_type": "code",
   "execution_count": null,
   "metadata": {},
   "outputs": [],
   "source": [
    "file_name = os.path.basename(image_path).split(\".\")[0]\n",
    "image = Image.open(image_path)\n",
    "\n",
    "data = {\n",
    "    \"file_name\": file_name,\n",
    "    \"image\": image,\n",
    "    \"point_label\": keypoint_dict[file_name],\n",
    "}"
   ]
  },
  {
   "cell_type": "code",
   "execution_count": null,
   "metadata": {},
   "outputs": [],
   "source": [
    "data_tf = tf(data)\n",
    "\n",
    "input = data_tf[\"image\"].unsqueeze(0).cuda()\n",
    "output_list = model(input)"
   ]
  },
  {
   "cell_type": "code",
   "execution_count": null,
   "metadata": {},
   "outputs": [],
   "source": [
    "image = np.array(image)[:, :, ::-1]\n",
    "for idx, it in enumerate(output_list):\n",
    "    it = (it > 0).cpu().numpy().astype(np.uint8).squeeze()\n",
    "    mask = np.zeros((it.shape[0], it.shape[1], 3), dtype=np.uint8)\n",
    "    mask[it==1] = (255, 255, 0)\n",
    "    image_mask = cv2.addWeighted(image, 1.0, mask, 0.8, 0.0)\n",
    "    image_mask = image_mask[:, :, ::-1]\n",
    "\n",
    "    plt.figure(figsize=(5, 5), dpi=300)\n",
    "    plt.imshow(image_mask)\n",
    "    plt.title(f\"{affordance[idx]}\")\n",
    "    plt.show()"
   ]
  }
 ],
 "metadata": {
  "kernelspec": {
   "display_name": "Python 3.8.13 ('ws')",
   "language": "python",
   "name": "python3"
  },
  "language_info": {
   "codemirror_mode": {
    "name": "ipython",
    "version": 3
   },
   "file_extension": ".py",
   "mimetype": "text/x-python",
   "name": "python",
   "nbconvert_exporter": "python",
   "pygments_lexer": "ipython3",
   "version": "3.8.13"
  },
  "orig_nbformat": 4,
  "vscode": {
   "interpreter": {
    "hash": "20a50bc7845baafadaa0f80c3ed3c1fb167a0ff5817dd880aadf23d72f93ab62"
   }
  }
 },
 "nbformat": 4,
 "nbformat_minor": 2
}
