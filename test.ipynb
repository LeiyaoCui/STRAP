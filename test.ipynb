{
 "cells": [
  {
   "cell_type": "code",
   "execution_count": 1,
   "metadata": {},
   "outputs": [],
   "source": [
    "import torch\n",
    "import numpy as np\n",
    "from PIL import Image, ImageDraw\n",
    "import matplotlib.pyplot as plt\n",
    "import matplotlib.colors as mcolors\n",
    "import pickle\n",
    "import yaml\n",
    "import os\n",
    "import cv2"
   ]
  },
  {
   "cell_type": "code",
   "execution_count": 3,
   "metadata": {},
   "outputs": [],
   "source": [
    "task = [\"openable\", \"cuttable\", \"pourable\", \"containable\", \"supportable\", \"holdable\"]"
   ]
  },
  {
   "cell_type": "code",
   "execution_count": 4,
   "metadata": {},
   "outputs": [],
   "source": [
    "cmap = mcolors.ListedColormap(['black', 'red', 'white'])\n",
    "norm = mcolors.Normalize(0, 255)\n",
    "\n",
    "def plot(input=None, weak_target=None, target=None, output=None, mask=None):\n",
    "    if input is not None:\n",
    "        plt.figure(figsize=(6, 6))\n",
    "        plt.imshow(input)\n",
    "        plt.title(\"Input\", fontsize=20)\n",
    "        plt.show()\n",
    "\n",
    "    if weak_target is not None:\n",
    "        plt.figure(figsize=(30, 4))\n",
    "        num_classes = len(weak_target)\n",
    "        for i in range(num_classes):\n",
    "            plt.subplot(1, num_classes, i+1)\n",
    "            img = np.array(weak_target[i])\n",
    "            img[img==255] = 128\n",
    "            img[img==1] = 255\n",
    "            plt.imshow(img, cmap=cmap, norm=norm)\n",
    "            plt.title(\"Weak: \" + task[i], fontsize=20)\n",
    "        plt.show()\n",
    "\n",
    "    if target is not None:\n",
    "        plt.figure(figsize=(30, 4))\n",
    "        num_classes = len(target)\n",
    "        for i in range(num_classes):\n",
    "            plt.subplot(1, num_classes, i+1)\n",
    "            img = np.array(target[i])\n",
    "            img[img==255] = 128\n",
    "            img[img==1] = 255\n",
    "            plt.imshow(img, cmap=cmap, norm=norm)\n",
    "            plt.title(\"Target: \" + task[i], fontsize=20)\n",
    "        plt.show()\n",
    "    \n",
    "    if output is not None:\n",
    "        plt.figure(figsize=(30, 4))\n",
    "        num_classes = len(output)\n",
    "        for i in range(num_classes):\n",
    "            plt.subplot(1, num_classes, i+1)\n",
    "            img = np.array(output[i])\n",
    "            img[img==1] = 255\n",
    "            plt.imshow(img, cmap=cmap, norm=norm)\n",
    "            plt.title(\"Output: \" + task[i], fontsize=20)\n",
    "        plt.show()\n",
    "\n",
    "    if mask is not None:\n",
    "        plt.figure(figsize=(6, 6))\n",
    "        img = np.array(mask)\n",
    "        img[img==1] = 255\n",
    "        plt.imshow(img, cmap=cmap, norm=norm)\n",
    "        plt.title(\"Mask\", fontsize=20)\n",
    "        plt.show()"
   ]
  },
  {
   "cell_type": "code",
   "execution_count": null,
   "metadata": {},
   "outputs": [],
   "source": [
    "def image_draw(image, keypoint):\n",
    "    new_image = Image.fromarray(image.copy())\n",
    "    draw = ImageDraw.Draw(new_image)\n",
    "    stroke_width = 10\n",
    "    for _, joints in keypoint:\n",
    "        if len(joints) > 1:\n",
    "            draw.line(np.array(joints).flatten(), 1, 10, joint=\"curve\")\n",
    "        for i in range(len(joints)):\n",
    "            draw.ellipse(\n",
    "                (\n",
    "                    joints[i][0] - stroke_width / 2,\n",
    "                    joints[i][1] - stroke_width / 2,\n",
    "                    joints[i][0] + stroke_width / 2,\n",
    "                    joints[i][1] + stroke_width / 2,\n",
    "                ),\n",
    "                1,\n",
    "            )\n",
    "\n",
    "    return new_image"
   ]
  },
  {
   "cell_type": "code",
   "execution_count": null,
   "metadata": {},
   "outputs": [],
   "source": [
    "from model import CerberusAffordanceModel\n",
    "\n",
    "model = CerberusAffordanceModel(len(task))\n",
    "\n",
    "resume_time = \"20220724_033524\"\n",
    "resume_level = \"model_best\" # model_best, checkpoint_latest\n",
    "resume_path = f\"output/{resume_time}/model/{resume_level}.pth\"\n",
    "\n",
    "model.load_state_dict(\n",
    "    {\n",
    "        k.replace(\"module.\", \"\"): v\n",
    "        for k, v in torch.load(resume_path)[\"state_dict\"].items()\n",
    "    }\n",
    ")\n",
    "model.eval()\n",
    "\n",
    "print(task)"
   ]
  },
  {
   "cell_type": "code",
   "execution_count": null,
   "metadata": {},
   "outputs": [],
   "source": [
    "keypoint_path = \"../dataset/cad120/object/train_affordance_keypoint.yaml\"\n",
    "\n",
    "with open(keypoint_path, \"r\") as fb:\n",
    "    keypoint_dict = yaml.safe_load(fb)"
   ]
  },
  {
   "cell_type": "code",
   "execution_count": null,
   "metadata": {},
   "outputs": [],
   "source": [
    "import transform as TF\n",
    "\n",
    "mean = [132.47758920907586, 106.32022472065732, 111.5704799224029]\n",
    "std = [67.45043019809088, 70.23484330785524, 72.19806953380163]\n",
    "\n",
    "tf = TF.Compose(\n",
    "    [\n",
    "        TF.ConvertPointLabel(\n",
    "            stroke_width=40, ignore_index=255\n",
    "        ),\n",
    "        # TF.RandomScaledTiltedWarpedPIL(\n",
    "        #     random_crop_size=(256, 256),\n",
    "        #     random_scale_max=1.25,\n",
    "        #     random_scale_min=0.8,\n",
    "        #     random_tilt_max_deg=10,\n",
    "        #     random_wiggle_max_ratio=0,\n",
    "        #     random_horizon_reflect=True,\n",
    "        #     center_offset_instead_of_random=False,\n",
    "        #     ignore_index=255,\n",
    "        # ),\n",
    "        TF.PILToTensor(),\n",
    "        TF.ImageNormalizeTensor(\n",
    "            mean=mean, std=std\n",
    "        ),\n",
    "    ]\n",
    ")\n"
   ]
  },
  {
   "cell_type": "code",
   "execution_count": null,
   "metadata": {},
   "outputs": [],
   "source": [
    "file_name = \"11592_1\"\n",
    "input_path = f\"../dataset/cad120/object/affordance/images/{file_name}.png\"\n",
    "target_path = f\"../dataset/cad120/object/affordance/labels/{file_name}.pkl\"\n",
    "# weak_target_path = f\"../dataset/cad120/object/train_affordance_weak_label/{file_name}.pkl\"\n",
    "\n",
    "data = dict()\n",
    "\n",
    "data[\"file_name\"] = os.path.basename(input_path).split(\".\")[0]\n",
    "\n",
    "data[\"image\"] = Image.open(input_path)\n",
    "\n",
    "with open(target_path, \"rb\") as fb:\n",
    "    dense_label = pickle.load(fb)\n",
    "    data[\"dense_label\"] = [Image.fromarray(dense_label[:, :, i]) for i in range(dense_label.shape[2])]\n",
    "\n",
    "# with open(weak_target_path, \"rb\") as fb:\n",
    "#     weak_label = pickle.load(fb)\n",
    "#     data[\"weak_label\"] = [Image.fromarray(weak_label[:, :, i]) for i in range(weak_label.shape[2])]\n",
    "\n",
    "data[\"point_label\"] = keypoint_dict[data[\"file_name\"]]\n",
    "\n",
    "data[\"validity\"] = Image.new(\"L\", data[\"image\"].size, color=1)"
   ]
  },
  {
   "cell_type": "code",
   "execution_count": null,
   "metadata": {},
   "outputs": [],
   "source": [
    "print(data[\"point_label\"])"
   ]
  },
  {
   "cell_type": "code",
   "execution_count": null,
   "metadata": {},
   "outputs": [],
   "source": [
    "plot(input=data[\"image\"], target=data[\"dense_label\"], weak_target=data[\"weak_label\"] if \"weak_label\" in data else None)"
   ]
  },
  {
   "cell_type": "code",
   "execution_count": null,
   "metadata": {},
   "outputs": [],
   "source": [
    "new_data = tf(data.copy())\n",
    "image = new_data[\"image\"].permute(1, 2, 0).contiguous().numpy()\n",
    "\n",
    "plot(input=image, weak_target=new_data[\"weak_label\"], target=new_data[\"dense_label\"])"
   ]
  },
  {
   "cell_type": "code",
   "execution_count": null,
   "metadata": {},
   "outputs": [],
   "source": [
    "with torch.no_grad():\n",
    "    output = model(new_data[\"image\"].unsqueeze(0))"
   ]
  },
  {
   "cell_type": "code",
   "execution_count": null,
   "metadata": {},
   "outputs": [],
   "source": [
    "validity = new_data[\"validity\"].squeeze(0)\n",
    "pred = [output[i].argmax(1).squeeze(0) * validity for i in range(len(task))]\n",
    "# pred = [(output[i].sigmoid().squeeze(0).squeeze(0) > 0.5).int() * validity for i in range(len(task))]\n",
    "\n",
    "plot(weak_target=new_data[\"weak_label\"], target=new_data[\"dense_label\"], output=pred, mask=validity)"
   ]
  },
  {
   "cell_type": "code",
   "execution_count": null,
   "metadata": {},
   "outputs": [],
   "source": [
    "image = np.array(data[\"image\"])\n",
    "\n",
    "pseudo_label = Image.new(\"L\", (image.shape[1], image.shape[0]), color=cv2.GC_PR_BGD)\n",
    "pseudo_draw = ImageDraw.Draw(pseudo_label)\n",
    "for _, joints in data[\"point_label\"]:\n",
    "    if len(joints) > 0:\n",
    "        for i in range(len(joints)):\n",
    "            pseudo_draw.rectangle(\n",
    "                (\n",
    "                    joints[i][0] - image.shape[1] / 3,\n",
    "                    joints[i][1] - image.shape[0] / 3,\n",
    "                    joints[i][0] + image.shape[1] / 3,\n",
    "                    joints[i][1] + image.shape[0] / 3,\n",
    "                ),\n",
    "                fill=cv2.GC_PR_FGD,\n",
    "            )\n",
    "\n",
    "mask = np.array(pseudo_label)\n",
    "cv2.grabCut(image, mask, None, None, None, 3, cv2.GC_INIT_WITH_MASK)\n",
    "\n",
    "label = ((mask == cv2.GC_PR_FGD) | (mask == cv2.GC_FGD)).astype(np.uint8)\n",
    "\n",
    "image_mask = image_draw(image.copy(), data[\"point_label\"])\n",
    "plot(input=image_mask, target=data[\"dense_label\"])\n",
    "\n",
    "label[label==1] = 128\n",
    "plt.figure(figsize=(6, 6))\n",
    "plt.imshow(label, cmap=cmap, norm=norm)\n",
    "plt.show()\n"
   ]
  },
  {
   "cell_type": "code",
   "execution_count": null,
   "metadata": {},
   "outputs": [],
   "source": [
    "class Model(torch.nn.Module):\n",
    "    def __init__(self):\n",
    "        super(Model, self).__init__()\n",
    "        self.fc1 = torch.nn.Linear(100, 10)\n",
    "        self.fc2_1 = torch.nn.Linear(10, 10)\n",
    "        self.fc2_2 = torch.nn.Linear(10, 10)\n",
    "\n",
    "        self.reset()\n",
    "\n",
    "    def forward(self, x):\n",
    "        y = self.fc1(x)\n",
    "\n",
    "        z1 = self.fc2_1(y)\n",
    "        z2 = self.fc2_2(y)\n",
    "\n",
    "        return z1, z2\n",
    "    \n",
    "    def reset(self):\n",
    "        torch.nn.init.constant_(self.fc1.weight, 1)\n",
    "        torch.nn.init.constant_(self.fc2_1.weight, 10)\n",
    "        torch.nn.init.constant_(self.fc2_2.weight, -10)\n",
    "\n",
    "        torch.nn.init.constant_(self.fc1.bias, 1)\n",
    "        torch.nn.init.constant_(self.fc2_1.bias, 10)\n",
    "        torch.nn.init.constant_(self.fc2_2.bias, -10)\n",
    "    \n",
    "def calculate_loss(y, y_hat):\n",
    "    loss = torch.mean((y - y_hat) ** 2)\n",
    "    return loss\n",
    "\n",
    "test_model = Model()\n",
    "test_model.train()"
   ]
  },
  {
   "cell_type": "code",
   "execution_count": null,
   "metadata": {},
   "outputs": [],
   "source": [
    "x = torch.randn(1, 100, requires_grad=True)\n",
    "y1 = torch.randn(1, 10, requires_grad=True)\n",
    "y2 = torch.randn(1, 10, requires_grad=True)"
   ]
  },
  {
   "cell_type": "code",
   "execution_count": null,
   "metadata": {},
   "outputs": [],
   "source": [
    "optimizer = torch.optim.SGD(\n",
    "    [\n",
    "        {\"params\": test_model.fc1.parameters(), \"lr\": 1},\n",
    "        {\"params\": test_model.fc2_1.parameters(), \"lr\": 1 / 0.3},\n",
    "        {\"params\": test_model.fc2_2.parameters(), \"lr\": 1 / 0.7},\n",
    "    ]\n",
    ")"
   ]
  },
  {
   "cell_type": "code",
   "execution_count": null,
   "metadata": {},
   "outputs": [],
   "source": [
    "test_model.reset()\n",
    "print(test_model.fc1.bias)\n",
    "print(test_model.fc2_1.bias)\n",
    "print(test_model.fc2_2.bias)\n",
    "\n",
    "z1, z2 = test_model(x)\n",
    "loss_1 = calculate_loss(y1, z1)\n",
    "loss_2 = calculate_loss(y2, z2)\n",
    "\n",
    "optimizer.zero_grad(set_to_none=True)\n",
    "(loss_1 * 0.3).backward()\n",
    "optimizer.step()\n",
    "print(test_model.fc1.bias.grad)\n",
    "print(test_model.fc2_1.bias.grad)\n",
    "print(test_model.fc2_2.bias.grad)\n",
    "\n",
    "print(test_model.fc1.bias)\n",
    "print(test_model.fc2_1.bias)\n",
    "print(test_model.fc2_2.bias)"
   ]
  },
  {
   "cell_type": "code",
   "execution_count": null,
   "metadata": {},
   "outputs": [],
   "source": [
    "test_model.reset()\n",
    "print(test_model.fc1.bias)\n",
    "print(test_model.fc2_1.bias)\n",
    "print(test_model.fc2_2.bias)\n",
    "\n",
    "z1, z2 = test_model(x)\n",
    "loss_1 = calculate_loss(y1, z1)\n",
    "loss_2 = calculate_loss(y2, z2)\n",
    "\n",
    "optimizer.zero_grad(set_to_none=True)\n",
    "(loss_2 * 0.7).backward()\n",
    "optimizer.step()\n",
    "print(test_model.fc1.bias.grad)\n",
    "print(test_model.fc2_1.bias.grad)\n",
    "print(test_model.fc2_2.bias.grad)\n",
    "\n",
    "print(test_model.fc1.bias)\n",
    "print(test_model.fc2_1.bias)\n",
    "print(test_model.fc2_2.bias)"
   ]
  },
  {
   "cell_type": "code",
   "execution_count": null,
   "metadata": {},
   "outputs": [],
   "source": [
    "test_model.reset()\n",
    "print(test_model.fc1.bias)\n",
    "print(test_model.fc2_1.bias)\n",
    "print(test_model.fc2_2.bias)\n",
    "\n",
    "z1, z2 = test_model(x)\n",
    "loss_1 = calculate_loss(y1, z1)\n",
    "loss_2 = calculate_loss(y2, z2)\n",
    "loss = 0.3 * loss_1 + 0.7 * loss_2\n",
    "\n",
    "optimizer.zero_grad(set_to_none=True)\n",
    "loss.backward()\n",
    "optimizer.step()\n",
    "print(test_model.fc1.bias.grad)\n",
    "print(test_model.fc2_1.bias.grad)\n",
    "print(test_model.fc2_2.bias.grad)\n",
    "\n",
    "print(test_model.fc1.bias)\n",
    "print(test_model.fc2_1.bias)\n",
    "print(test_model.fc2_2.bias)"
   ]
  },
  {
   "cell_type": "code",
   "execution_count": 10,
   "metadata": {},
   "outputs": [
    {
     "name": "stdout",
     "output_type": "stream",
     "text": [
      "(321, 321, 6)\n",
      "uint8\n"
     ]
    },
    {
     "data": {
      "image/png": "[encoded data removed]",
      "text/plain": [
       "<Figure size 2160x288 with 6 Axes>"
      ]
     },
     "metadata": {
      "needs_background": "light"
     },
     "output_type": "display_data"
    }
   ],
   "source": [
    "weak_target_path = \"../dataset/cad120/object/train_affordance_weak_label/10009_1.pkl\"\n",
    "with open(weak_target_path, \"rb\") as fb:\n",
    "    weak_label = pickle.load(fb)\n",
    "print(weak_label.shape)\n",
    "print(weak_label.dtype)\n",
    "weak_label = np.split(weak_label, 6, axis=2)\n",
    "weak_label = [Image.fromarray(it.squeeze(2), mode=\"L\") for it in weak_label]\n",
    "weak_label = [np.array(it) for it in weak_label]\n",
    "# print(weak_label.)\n",
    "\n",
    "target_path = \"../dataset/cad120/object/affordance/labels/10009_1.pkl\"\n",
    "\n",
    "plot(weak_target=weak_label)"
   ]
  }
 ],
 "metadata": {
  "interpreter": {
   "hash": "6890e8fc0799d3d1dcb479342f299d6ce460afb8504f3b97355f0e5378c1bc8b"
  },
  "kernelspec": {
   "display_name": "Python 3.8.13 ('cerberus')",
   "language": "python",
   "name": "python3"
  },
  "language_info": {
   "codemirror_mode": {
    "name": "ipython",
    "version": 3
   },
   "file_extension": ".py",
   "mimetype": "text/x-python",
   "name": "python",
   "nbconvert_exporter": "python",
   "pygments_lexer": "ipython3",
   "version": "3.8.13"
  },
  "orig_nbformat": 4
 },
 "nbformat": 4,
 "nbformat_minor": 2
}
